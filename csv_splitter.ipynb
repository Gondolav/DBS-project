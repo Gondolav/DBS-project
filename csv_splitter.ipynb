{
 "cells": [
  {
   "cell_type": "code",
   "execution_count": 1,
   "metadata": {},
   "outputs": [],
   "source": [
    "def write_piecewise(name, data, length):\n",
    "    files = int(len(data)/length)+1\n",
    "    print(\"creating\", files, \"files\")\n",
    "    remaining = len(data)\n",
    "    written = 0\n",
    "    for i in range(files):\n",
    "        with open(name+str(i)+\".csv\",'w',newline='') as out:\n",
    "            csv_out=csv.writer(out, delimiter=';', quotechar='\"', quoting=csv.QUOTE_MINIMAL)\n",
    "            write = min(length, remaining)\n",
    "            for i in range(write):\n",
    "                csv_out.writerow(data[i+written])\n",
    "        remaining -= write\n",
    "        written += write\n",
    "    print(\"done\")"
   ]
  },
  {
   "cell_type": "code",
   "execution_count": 2,
   "metadata": {},
   "outputs": [],
   "source": [
    "import csv\n",
    "def load(name):\n",
    "    data = []\n",
    "    with open(name) as file:\n",
    "        data=[tuple(line) for line in csv.reader(file, delimiter=';', quotechar='\"', quoting=csv.QUOTE_MINIMAL)]\n",
    "    return data"
   ]
  },
  {
   "cell_type": "code",
   "execution_count": 3,
   "metadata": {},
   "outputs": [],
   "source": [
    "data = load('listings.csv')"
   ]
  },
  {
   "cell_type": "code",
   "execution_count": 5,
   "metadata": {},
   "outputs": [
    {
     "name": "stdout",
     "output_type": "stream",
     "text": [
      "creating 22 files\n",
      "done\n"
     ]
    }
   ],
   "source": [
    "write_piecewise('listings_', data, 2000)"
   ]
  },
  {
   "cell_type": "code",
   "execution_count": null,
   "metadata": {},
   "outputs": [],
   "source": []
  }
 ],
 "metadata": {
  "kernelspec": {
   "display_name": "Python 3",
   "language": "python",
   "name": "python3"
  },
  "language_info": {
   "codemirror_mode": {
    "name": "ipython",
    "version": 3
   },
   "file_extension": ".py",
   "mimetype": "text/x-python",
   "name": "python",
   "nbconvert_exporter": "python",
   "pygments_lexer": "ipython3",
   "version": "3.6.5"
  }
 },
 "nbformat": 4,
 "nbformat_minor": 2
}
